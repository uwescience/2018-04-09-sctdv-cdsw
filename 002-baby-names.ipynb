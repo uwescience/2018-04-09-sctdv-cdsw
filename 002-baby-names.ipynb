{
 "cells": [
  {
   "cell_type": "markdown",
   "metadata": {},
   "source": [
    "# Data analysis\n",
    "\n",
    "In this lesson, we will start working on some data analysis. We will work with some data about the names of babies born in the US. The files `data/yob2010.txt`,`data/yob2011.txt`, `data/yob2012.txt`, `data/yob2013.txt` contain lists of all the names that were given to babies in those years. Each row contains a triplet: \n",
    "\n",
    "    Name, Gender, Number \n",
    "    \n",
    "Where the \"Number\" entry contains the number of babies born that year that were given that name. For example, the first row in `data/yob2010.txt` contains the triplet: \n",
    "\n",
    "    Isabella,F,22872\n",
    "    "
   ]
  },
  {
   "cell_type": "markdown",
   "metadata": {},
   "source": [
    "We'll start analyzing the data in these files by reading in the data:\n",
    "\n",
    "    file_name = \"data/yob2013.txt\"\n",
    "\n",
    "    boys = {}\n",
    "    girls = {}\n",
    "\n",
    "    for line in open(file_name, 'r').readlines():\n",
    "        name, gender, count = line.strip().split(\",\")\n",
    "        count = int(count)\n",
    "\n",
    "        if gender == \"F\":\n",
    "            girls[name.lower()] = count\n",
    "        elif gender == \"M\":\n",
    "            boys[name.lower()] = count\n",
    "\n"
   ]
  },
  {
   "cell_type": "code",
   "execution_count": null,
   "metadata": {},
   "outputs": [],
   "source": []
  },
  {
   "cell_type": "markdown",
   "metadata": {},
   "source": [
    "After running this code, we should have two dictionaries: `girls` and `boys` that contain a key for each name and a value for the number of babies with that name. "
   ]
  },
  {
   "cell_type": "markdown",
   "metadata": {},
   "source": [
    "We should be able to do some interesting things with the data "
   ]
  },
  {
   "cell_type": "markdown",
   "metadata": {},
   "source": [
    "### Ideas for analysis that you can do with this data:\n",
    "\n",
    "1. Search for your own name. Are there both boys and girls that have your name? Is it more popular for one group than for the other?\n",
    "2. Are there more boys' names or girls' names? What about for particular first letters? What about for every first letter?\n",
    "3. How many boys and girls are described in the dataset (i.e., how many boys and girls born in 2013 have names given to at least four others)?\n",
    "4. What is the longest name in the dataset?\n",
    "5. How many boys' names are also girls' names? How many girls' names are also boys' names?\n",
    "6. How many names are subsets of other names?\n",
    "7. Write a program that will take a name as input and return the number of girls and boys with that name.\n",
    "8. What is the most popular girls' name that is also a boys' name?\n",
    "9. Take a prefix as input and print the number of boys and girls with that prefix (i.e., \"m\" would list babies whose names start with \"m\" and \"ma\" would list babies whose names start with \"ma\", etc)."
   ]
  },
  {
   "cell_type": "code",
   "execution_count": null,
   "metadata": {},
   "outputs": [],
   "source": []
  }
 ],
 "metadata": {
  "kernelspec": {
   "display_name": "Python 3",
   "language": "python",
   "name": "python3"
  },
  "language_info": {
   "codemirror_mode": {
    "name": "ipython",
    "version": 3
   },
   "file_extension": ".py",
   "mimetype": "text/x-python",
   "name": "python",
   "nbconvert_exporter": "python",
   "pygments_lexer": "ipython3",
   "version": "3.6.4"
  }
 },
 "nbformat": 4,
 "nbformat_minor": 2
}
