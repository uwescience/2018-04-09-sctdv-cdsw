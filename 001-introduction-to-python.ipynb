{
 "cells": [
  {
   "cell_type": "markdown",
   "metadata": {},
   "source": [
    "# Introduction to Python"
   ]
  },
  {
   "cell_type": "markdown",
   "metadata": {},
   "source": [
    "## Rules for this tutorial\n",
    "\n",
    "This is an interactive tutorial. Every time you see something like this: \n",
    "\n",
    "    a = \"Hello\"\n",
    "\n",
    "You should type the expression into a Code cell (you can get a new code cell by selecting 'Insert' above and then choosing 'Insert cell below'. \n",
    "\n",
    "No copying and pasting! You'll learn the concepts better if you type them out yourself.\n"
   ]
  },
  {
   "cell_type": "code",
   "execution_count": null,
   "metadata": {},
   "outputs": [],
   "source": []
  },
  {
   "cell_type": "markdown",
   "metadata": {},
   "source": [
    "## Math in Python\n",
    "\n",
    "Math in Python looks a lot like math you type into a calculator. Python  makes a great calculator if you need to crunch some numbers and don't have a good calculator handy.\n",
    "\n",
    "### Addition\n",
    "\n",
    "    2 + 2\n",
    "  \n",
    "    1.5 + 2.25"
   ]
  },
  {
   "cell_type": "code",
   "execution_count": null,
   "metadata": {},
   "outputs": [],
   "source": []
  },
  {
   "cell_type": "markdown",
   "metadata": {},
   "source": [
    "### Subtraction\n",
    "\n",
    "    4 - 2\n",
    "    \n",
    "    100 - .5\n",
    "    \n",
    "    0 - 2"
   ]
  },
  {
   "cell_type": "code",
   "execution_count": null,
   "metadata": {},
   "outputs": [],
   "source": []
  },
  {
   "cell_type": "markdown",
   "metadata": {},
   "source": [
    "### Multiplication\n",
    "\n",
    "     2 * 3"
   ]
  },
  {
   "cell_type": "code",
   "execution_count": null,
   "metadata": {},
   "outputs": [],
   "source": []
  },
  {
   "cell_type": "markdown",
   "metadata": {},
   "source": [
    "### Division\n",
    "   \n",
    "    1 / 2\n",
    "    \n",
    "    4 / 2\n",
    "    "
   ]
  },
  {
   "cell_type": "code",
   "execution_count": null,
   "metadata": {},
   "outputs": [],
   "source": []
  },
  {
   "cell_type": "markdown",
   "metadata": {},
   "source": [
    "When you run these last two you will see that the first one is a fraction (`0.5`), but that even though the second is a whole number (`2.0`), it still gets a decimal point. This is because Python wants to make sure that when you divide two numbers (even whole numbers), you can represent the fractional part of this division. \n",
    "\n",
    "In Python, we call the first kind of number (whole numbers with no decimal point) an `integer` (or `int`) and the second kind (numbers with decimal points, whether they are whole of not) a `float`. "
   ]
  },
  {
   "cell_type": "markdown",
   "metadata": {},
   "source": [
    "## Functions\n",
    "\n",
    "Functions are objects in the Python language that receive an input operate on that input and then return an output. Sort of like a toaster: you put slices of bread into it (inputs), you operate it in a particular way (in Python, that's know as \"calling the function\"), and you get toasted bread (an output). \n",
    "\n",
    "For example, if you'd like to know whether a number is a `float` or an `int`, you can give that to the `type` function, and it will tell you. When you call a function, we say that you \"pass\" it your inputs. That's done by putting them inside parentheses. Try this:\n",
    "\n",
    "    type(1)\n",
    "    type(1.0)\n",
    "\n"
   ]
  },
  {
   "cell_type": "code",
   "execution_count": null,
   "metadata": {},
   "outputs": [],
   "source": []
  },
  {
   "cell_type": "markdown",
   "metadata": {},
   "source": [
    "## Variables\n",
    "\n",
    "Variables allow us to give a name to something in our code. This is done using the equal sign (`=`). For example, if we want to say that the number `4` should be stored in the name `x`, we can run the following\n",
    "\n",
    "    x = 4 \n",
    "    x \n",
    "\n",
    "We call this \"variable assignment\", because we assign a particular value to the name `x`. \n",
    "\n",
    "What do you think would happen if we were to run `type(x)`? And `2 * x`? "
   ]
  },
  {
   "cell_type": "code",
   "execution_count": null,
   "metadata": {},
   "outputs": [],
   "source": []
  },
  {
   "cell_type": "markdown",
   "metadata": {},
   "source": [
    "### Valid variable names\n",
    "\n",
    "Variables can't have spaces or other special characters, and they need to start with a letter. Here are some valid variable names:\n",
    "\n",
    "     magic_number = 1500\n",
    "     amountOfFlour = .75\n",
    "     my_name = \"Jessica\"\n",
    "     \n",
    "What happens if you violate one of these rules?"
   ]
  },
  {
   "cell_type": "code",
   "execution_count": null,
   "metadata": {},
   "outputs": [],
   "source": []
  },
  {
   "cell_type": "markdown",
   "metadata": {},
   "source": [
    "## Output\n",
    "\n",
    "Notice how if you type a 4 and hit enter, the Python interpreter spits a 4\n",
    "back out:\n",
    "    \n",
    "    4\n",
    "\n"
   ]
  },
  {
   "cell_type": "code",
   "execution_count": null,
   "metadata": {},
   "outputs": [],
   "source": []
  },
  {
   "cell_type": "markdown",
   "metadata": {},
   "source": [
    "But if you assign 4 to a variable, nothing is printed: \n",
    "\n",
    "    x = 4"
   ]
  },
  {
   "cell_type": "code",
   "execution_count": null,
   "metadata": {},
   "outputs": [],
   "source": []
  },
  {
   "cell_type": "markdown",
   "metadata": {},
   "source": [
    "You can think of it as though something needs to get the output. Without an assignment, the winner is the screen. With assignment, the output goes to the variable."
   ]
  },
  {
   "cell_type": "markdown",
   "metadata": {},
   "source": [
    "You can reassign variables if you want:\n",
    "\n",
    "    x = 4\n",
    "    x = 5\n",
    "    \n",
    "Notice that I am using another function here. This function (`print`) displays to the screen whatever is given to it as input. "
   ]
  },
  {
   "cell_type": "code",
   "execution_count": null,
   "metadata": {},
   "outputs": [],
   "source": []
  },
  {
   "cell_type": "markdown",
   "metadata": {},
   "source": [
    "Order of operations between math operations works pretty much like how you learned in school. If you're unsure of an ordering, you can add parentheses like on a calculator:\n",
    "\n",
    "    x = 3\n",
    "    y = 4\n",
    "    print(x * y)\n",
    "    print(x * x)\n",
    "    print(2 * x - 1 * y)\n",
    "    print((2 * x) - (1 * y))\n"
   ]
  },
  {
   "cell_type": "code",
   "execution_count": null,
   "metadata": {},
   "outputs": [],
   "source": []
  },
  {
   "cell_type": "markdown",
   "metadata": {},
   "source": [
    "The spacing doesn't matter, so this: \n",
    "\n",
    "    x = 4 \n",
    "    \n",
    "does exactly the same as this:\n",
    "    \n",
    "    x=4\n",
    "    \n",
    "and this: \n",
    "   \n",
    "    (2 * x) - (1 * y)\n",
    "    \n",
    "does exactly the same as this: \n",
    "\n",
    "    (2*x)-(1*y)\n",
    "\n",
    "You aren't cheating and skipping typing these exercises out, are you? Good! :)"
   ]
  },
  {
   "cell_type": "code",
   "execution_count": null,
   "metadata": {},
   "outputs": [],
   "source": []
  },
  {
   "cell_type": "markdown",
   "metadata": {},
   "source": [
    "## Strings\n",
    "\n",
    "So far we've seen two data types: `int`s and `float`s. Another useful data type is a `string`, which is just what Python calls a bunch of characters (like numbers, letters, whitespace, and punctuation) put together. Strings are indicated by being surrounded by quotes:\n",
    "\n",
    "     \"Hello\"\n",
    "     \"Python, I'm your #1 fan!\""
   ]
  },
  {
   "cell_type": "code",
   "execution_count": null,
   "metadata": {},
   "outputs": [],
   "source": []
  },
  {
   "cell_type": "markdown",
   "metadata": {},
   "source": [
    "Like with the math data types above, we can use the type function to check the type of strings:\n",
    "\n",
    "    type(\"Hello\")\n",
    "    type(1)\n",
    "    type(\"1\")"
   ]
  },
  {
   "cell_type": "markdown",
   "metadata": {},
   "source": [
    "### String concatenation\n",
    "\n",
    "You can combine together strings using the `+` sign (we call that \"concatenating\"): \n",
    "\n",
    "    \"Hello\" + \"world\"\n",
    "    name = \"Jessica\" \n",
    "    \"Hello\" + name\n",
    "    \n"
   ]
  },
  {
   "cell_type": "code",
   "execution_count": null,
   "metadata": {},
   "outputs": [],
   "source": []
  },
  {
   "cell_type": "markdown",
   "metadata": {},
   "source": [
    "What happens when you try concatenating different data types?\n",
    "\n",
    "For example, try running: \n",
    "    \n",
    "    \"Hello\" + 1"
   ]
  },
  {
   "cell_type": "code",
   "execution_count": null,
   "metadata": {},
   "outputs": [],
   "source": []
  },
  {
   "cell_type": "markdown",
   "metadata": {},
   "source": [
    "This should result in something that looks like:\n",
    "\n",
    "    Traceback (most recent call last):\n",
    "      File \"<stdin>\", line 1, in <module>\n",
    "    TypeError: cannot concatenate 'str' and 'int' objects"
   ]
  },
  {
   "cell_type": "markdown",
   "metadata": {},
   "source": [
    "Python is giving us a **traceback**. A traceback is details on what was happening when Python encountered an Exception or Error -- something it doesn't know how to handle.\n",
    "\n",
    "There are many kinds of Python errors, with descriptive names to help us humans understand what went wrong. In this case we are getting a TypeError: we tried to do some operation on a data type that isn't supported for that data type.\n",
    "\n",
    "Python gives us a helpful error message as part of the TypeError:\n",
    "\n",
    "    \"cannot concatenate 'str' and 'int' objects\"\n",
    "\n",
    "This is because though we can concatenate strings (For example `\"Hello\" + \"World\"`), when we try to concatenate a string to a number, Python doesn't know what to do. We can convert an integer into a string ourselves, using the str function:\n",
    "\n",
    "    \"Hello\" + str(1)"
   ]
  },
  {
   "cell_type": "code",
   "execution_count": null,
   "metadata": {},
   "outputs": [],
   "source": []
  },
  {
   "cell_type": "markdown",
   "metadata": {},
   "source": [
    "Like the type function from before, the `str` function takes 1 argument. In the above example it took the integer 1. `str` takes a Python object as input and produces a string version of that input as output."
   ]
  },
  {
   "cell_type": "markdown",
   "metadata": {},
   "source": [
    "### String length\n",
    "\n",
    "There's another useful function that works on strings called `len`. It returns the length of a string as an integer:\n",
    "\n",
    "    len(\"Hello\")\n",
    "    len(\"\")\n",
    "    fish = \"humuhumunukunukuapua'a\"\n",
    "    name_length = len(fish)\n",
    "    fish + \" is a Hawaiian fish whose name is \" + str(name_length) + \" characters long.\""
   ]
  },
  {
   "cell_type": "code",
   "execution_count": null,
   "metadata": {},
   "outputs": [],
   "source": []
  },
  {
   "cell_type": "markdown",
   "metadata": {},
   "source": [
    "One fun thing about strings in Python is that you can multiply them. Try it!\n",
    "\n",
    "    \"A\" * 40\n",
    "    \"ABC\" * 12\n",
    "    h = \"Happy\"\n",
    "    b = \"Birthday\"\n",
    "    (h + b) * 10\n"
   ]
  },
  {
   "cell_type": "markdown",
   "metadata": {},
   "source": [
    "> ## Practice: \n",
    "\n",
    "> Read the following expressions, but don't execute them. Guess what the\n",
    "> output will be. After you've made a guess, copy and paste the \n",
    "> expressions at a Python prompt and check your guess.\n",
    ">\n",
    "\n",
    "\n",
    "Exercise \\# 1 \n",
    "\n",
    "    total = 1.5 - 1/2\n",
    " \n",
    "    total\n",
    "\n",
    "    type(total)"
   ]
  },
  {
   "cell_type": "code",
   "execution_count": null,
   "metadata": {},
   "outputs": [],
   "source": []
  },
  {
   "cell_type": "markdown",
   "metadata": {},
   "source": [
    "Exercise \\# 2\n",
    "\n",
    "    a = \"quick\"\n",
    "    b =  \"brown\"\n",
    "    c = \"fox jumps over the lazy dog\"\n",
    "    \"The \" +  a * 3 + \" \" +  b * 3 + \" \" + c"
   ]
  },
  {
   "cell_type": "markdown",
   "metadata": {},
   "source": [
    "## Making choices\n",
    "\n",
    "Sometimes we want to have our code make some choices based on what it got as inputs. \n",
    "\n",
    "### Booleans\n",
    "\n",
    "So far, the code we've written has been unconditional: no choice is getting made, and the code is always run. Python has another data type called a boolean that is helpful for writing code that makes decisions. There are two booleans: `True` and `False`. Try them out:\n",
    "\n",
    "    True\n",
    "\n",
    "    type(True)\n",
    "\n",
    "    False\n",
    "\n",
    "    type(False)"
   ]
  },
  {
   "cell_type": "code",
   "execution_count": null,
   "metadata": {},
   "outputs": [],
   "source": []
  },
  {
   "cell_type": "markdown",
   "metadata": {},
   "source": [
    "You can test if Python objects are equal or unequal. The result is a boolean:\n",
    "\n",
    "    0 == 0\n",
    "\n",
    "    0 == 1"
   ]
  },
  {
   "cell_type": "code",
   "execution_count": null,
   "metadata": {},
   "outputs": [],
   "source": []
  },
  {
   "cell_type": "markdown",
   "metadata": {},
   "source": [
    "This can be a bit confusing: *Use `==` to test for equality. Recall that `=` is used for assignment*.\n",
    "\n",
    "This is an important idea and can be a source of errors until you get used to it: `=` is assignment, `==` is comparison.\n",
    "\n",
    "Use `!=` to test for inequality:\n",
    "\n",
    "    \"a\" != \"a\"\n",
    "\n",
    "    \"a\" != \"A\"\n",
    "\n"
   ]
  },
  {
   "cell_type": "code",
   "execution_count": null,
   "metadata": {},
   "outputs": [],
   "source": []
  },
  {
   "cell_type": "markdown",
   "metadata": {},
   "source": [
    "`<`, `<=`, `>`, and `>=` have the same meaning as in math class. The result of these tests is a boolean:\n",
    "    \n",
    "    1 > 0\n",
    "\n",
    "    2 >= 3\n",
    "\n",
    "    -1 < 0\n",
    "\n",
    "    .5 <= 1\n"
   ]
  },
  {
   "cell_type": "code",
   "execution_count": null,
   "metadata": {},
   "outputs": [],
   "source": []
  },
  {
   "cell_type": "markdown",
   "metadata": {},
   "source": [
    "You can check for *containment* with the `in` keyword, which also results in a boolean:\n",
    "\n",
    "    H\" in \"Hello\"\n",
    "\n",
    "    \"X\" in \"Hello\"\n"
   ]
  },
  {
   "cell_type": "code",
   "execution_count": null,
   "metadata": {},
   "outputs": [],
   "source": []
  },
  {
   "cell_type": "markdown",
   "metadata": {},
   "source": [
    "Or check for a lack of containment with not in:\n",
    "\n",
    "    \"a\" not in \"abcde\"\n",
    "\n",
    "    \"Perl\" not in \"Python Workshop\""
   ]
  },
  {
   "cell_type": "markdown",
   "metadata": {},
   "source": [
    "### If statements \n",
    "\n",
    "The simplest way to make a choice in Python is with the if keyword. Here's an example:\n",
    "\n",
    "    if 6 > 5:\n",
    "        print(\"Six is greater than five!\")\n",
    "        \n",
    "The first line has the `if` keyword followed by a comparison. In this case, we are asking is `6` larger than `5`. We could also ask another question: \n",
    "\n",
    "    if 5 > 6: \n",
    "        print(\"Five is greater than six!\")\n",
    "        \n",
    "The code inside the indented block is only executed when the evaluated statement (`5 > 6` or `6 > 5`) is true.\n",
    "\n",
    "Guess what will happen with these other expressions, then type them out and see if your guess was correct:\n",
    "\n",
    "    if 0 > 2:\n",
    "        print(\"Zero is greater than two!\")\n",
    "        \n",
    "        \n",
    "    if \"banana\" in \"bananarama\":\n",
    "        print(\"I miss the 80s.\")"
   ]
  },
  {
   "cell_type": "code",
   "execution_count": null,
   "metadata": {},
   "outputs": [],
   "source": []
  },
  {
   "cell_type": "markdown",
   "metadata": {},
   "source": []
  },
  {
   "cell_type": "code",
   "execution_count": null,
   "metadata": {},
   "outputs": [],
   "source": []
  },
  {
   "cell_type": "markdown",
   "metadata": {},
   "source": [
    "### More choices, `if` and `else`\n",
    "\n",
    "`if` lets you execute some code only if a condition is True. What if you want to execute some different code if a condition is False?\n",
    "\n",
    "Use the `else` keyword, together with `if`, to execute different code when the if condition isn't True. Try this:\n",
    "\n",
    "    sister_age = 15\n",
    "    brother_age = 12\n",
    "    if sister_age > brother_age:\n",
    "        print(\"sister is older\")\n",
    "    else:\n",
    "        print(\"brother is older\")\n",
    "\n",
    "Like with if, the code block under the else condition must be indented so Python knows that it is a part of the else block."
   ]
  },
  {
   "cell_type": "code",
   "execution_count": null,
   "metadata": {},
   "outputs": [],
   "source": []
  },
  {
   "cell_type": "markdown",
   "metadata": {},
   "source": [
    "### Compound conditionals: `and` and `or`\n",
    "\n",
    "You can check multiple expressions together using the `and` and `or` keywords. If two expressions are joined by an `and`, they both have to be true for the overall expression to be true. If two expressions are joined by an `or`, as long as at least one is true, the overall expression is true.\n",
    "\n",
    "Try typing these out and see what you get:\n",
    "\n",
    "\n",
    "    1 > 0 and 1 < 2\n",
    "    \n",
    "    1 < 2 and \"x\" in \"abc\"\n",
    "\n",
    "    \"a\" in \"hello\" or \"e\" in \"hello\"\n",
    "    \n",
    "    1 <= 0 or \"a\" not in \"abc\"\n",
    "\n"
   ]
  },
  {
   "cell_type": "code",
   "execution_count": null,
   "metadata": {},
   "outputs": [],
   "source": []
  },
  {
   "cell_type": "markdown",
   "metadata": {},
   "source": [
    "Guess what will happen when you enter these next two examples, and then type them out and see if you are correct. If you have trouble with the indenting, tell me and we can practice together. It is important to be comfortable with indenting for the next stage.\n",
    "\n",
    "    temperature = 32\n",
    "    if temperature > 60 and temperature < 75:\n",
    "        print(\"It's nice and cozy in here!\")\n",
    "    else:\n",
    "        print(\"Too extreme for me.\")\n",
    "        \n",
    "        \n",
    "    hour = 11\n",
    "    if hour < 7 or hour > 23:\n",
    "        print(\"Go away!\")\n",
    "        print(\"I'm sleeping!\")\n",
    "    else:\n",
    "        print(\"Welcome to the cheese shop!\")\n",
    "        print(\"Can I interest you in some choice gouda?\")\n"
   ]
  },
  {
   "cell_type": "code",
   "execution_count": null,
   "metadata": {},
   "outputs": [],
   "source": []
  },
  {
   "cell_type": "markdown",
   "metadata": {},
   "source": [
    "**Note**: You can have as many lines of code as you want in if and else blocks; just make sure to indent them so Python knows they are a part of the block.\n"
   ]
  },
  {
   "cell_type": "markdown",
   "metadata": {},
   "source": [
    "### Even more choices: `elif`\n",
    "\n",
    "If you need to execute code conditional based on more than two cases, you can use the `elif` keyword to check more cases. You can have as many `elif` cases as you want; Python will go down the code checking each `elif` until it finds a tru condition or reaches the default `else` block. Try this:\n",
    "\n",
    "\n",
    "    sister_age = 15\n",
    "    brother_age = 12\n",
    "    if sister_age > brother_age:\n",
    "        print(\"sister is older\")\n",
    "    elif sister_age == brother_age:\n",
    "        print(\"sister and brother are the same age\")\n",
    "    else:\n",
    "        print(\"brother is older\")\n",
    "\n",
    "**Note**: The `==` denotes that we are checking whether two things on both sides of the symbol are equal to each other. It means something completely different than a single `=` sign!"
   ]
  },
  {
   "cell_type": "code",
   "execution_count": null,
   "metadata": {},
   "outputs": [],
   "source": []
  },
  {
   "cell_type": "markdown",
   "metadata": {},
   "source": [
    "You don't have to have an `else` block, if you don't need it. That just means there isn't default code to execute when none of the `if` or `elif` conditions are true:\n",
    "\n",
    "    color = \"orange\"\n",
    "    if color == \"green\" or color == \"red\":\n",
    "      print(\"Christmas color!\")\n",
    "    elif color == \"black\" or color == \"orange\":\n",
    "      print(\"Halloween color!\")\n",
    "    elif color == \"pink\":\n",
    "      print(\"Valentine's Day color!\")\n",
    "\n",
    "\n",
    "If color had been \"purple\", that code wouldn't have printed anything! "
   ]
  },
  {
   "cell_type": "code",
   "execution_count": null,
   "metadata": {},
   "outputs": [],
   "source": []
  },
  {
   "cell_type": "markdown",
   "metadata": {},
   "source": [
    "## Congratulations! \n",
    "\n",
    "You're done with the first part of the Python tutorial. Take a break, and stretch your legs! "
   ]
  },
  {
   "cell_type": "markdown",
   "metadata": {},
   "source": [
    "## Storing sequences\n",
    "\n",
    "We use lists to store collections of items in sequence. For example: \n",
    "\n",
    "    my_list = [\"a\", \"b\", \"c\"]\n",
    "    another_list = [\"Ariel\", 1, 2, \"3\"]"
   ]
  },
  {
   "cell_type": "code",
   "execution_count": null,
   "metadata": {},
   "outputs": [],
   "source": []
  },
  {
   "cell_type": "markdown",
   "metadata": {},
   "source": [
    "What do you think you would get if you executed `type(my_list)` ?"
   ]
  },
  {
   "cell_type": "code",
   "execution_count": null,
   "metadata": {},
   "outputs": [],
   "source": []
  },
  {
   "cell_type": "markdown",
   "metadata": {},
   "source": [
    "You can use the `len` function to get the "
   ]
  },
  {
   "cell_type": "code",
   "execution_count": null,
   "metadata": {},
   "outputs": [],
   "source": []
  },
  {
   "cell_type": "markdown",
   "metadata": {},
   "source": [
    "### Accessing list elements \n",
    "\n",
    "Accessing an element of a list can be done using the square brackets (`[` and `]`): \n",
    "\n",
    "\n",
    "    print(my_list[0])\n",
    "    print(my_list[1])\n",
    "    print(my_list[2])\n",
    "\n",
    "**Note**: We call accessing list elements with square brackets *'indexing into the array'*\n",
    "\n",
    "**Note**: The first element is denoted by 0. This is because Python uses 'zero-based indexing'\n"
   ]
  },
  {
   "cell_type": "code",
   "execution_count": null,
   "metadata": {},
   "outputs": [],
   "source": []
  },
  {
   "cell_type": "markdown",
   "metadata": {},
   "source": [
    "### Indexing from the back\n",
    "\n",
    "We can also access the elements of an array with negative numbers. This means that we start from the end and go towards the front. The last element is indexed through -1: \n",
    "\n",
    "    print(my_list[-1])\n",
    "    print(my_list[-2])\n",
    "    print(my_list[-3])"
   ]
  },
  {
   "cell_type": "code",
   "execution_count": null,
   "metadata": {},
   "outputs": [],
   "source": []
  },
  {
   "cell_type": "markdown",
   "metadata": {},
   "source": [
    "What happens if we try to index with a number larger than the number of elements in the list? For example, `my_list[5]`"
   ]
  },
  {
   "cell_type": "code",
   "execution_count": null,
   "metadata": {},
   "outputs": [],
   "source": []
  },
  {
   "cell_type": "markdown",
   "metadata": {},
   "source": [
    "### Adding elements to a list: \n",
    "\n",
    "We can add elements to a list using the `append` function: \n",
    "\n",
    "    my_list.append(\"d\")\n",
    "\n",
    "This is a function, but it belongs to the list. We call a function that belongs to an object a 'method' of the object. "
   ]
  },
  {
   "cell_type": "code",
   "execution_count": null,
   "metadata": {},
   "outputs": [],
   "source": []
  },
  {
   "cell_type": "markdown",
   "metadata": {},
   "source": [
    "### Replacing elements\n",
    "\n",
    "We can replace elements in a list by assigning into a particular index: \n",
    "\n",
    "    my_list[0] = \"new\"\n",
    "    my_list[-1] = \"newer\""
   ]
  },
  {
   "cell_type": "code",
   "execution_count": null,
   "metadata": {},
   "outputs": [],
   "source": []
  },
  {
   "cell_type": "markdown",
   "metadata": {},
   "source": [
    "### Finding elements in the list \n",
    "\n",
    "We can use the `in` keyword to find whether an element is part of a list: \n",
    "\n",
    "    \"z\" in my_list\n",
    "    \"new\" in my_list\n",
    "    "
   ]
  },
  {
   "cell_type": "code",
   "execution_count": null,
   "metadata": {},
   "outputs": [],
   "source": []
  },
  {
   "cell_type": "markdown",
   "metadata": {},
   "source": [
    "### Slices of lists\n",
    "\n",
    "We can get a sub-list of a list (or a 'slice'), using the following slicing notation. We take everything from the element denoted by the index before the colon, and up to the element right before the one denoted by the index after the colon:\n",
    "\n",
    "\n",
    "    my_list[0:2]\n",
    "    my_list[1:]\n",
    "    my_list[:-1]\n",
    "    \n"
   ]
  },
  {
   "cell_type": "code",
   "execution_count": null,
   "metadata": {},
   "outputs": [],
   "source": []
  },
  {
   "cell_type": "markdown",
   "metadata": {},
   "source": [
    "What do you think would happen if you tried to slice into a string? \n",
    "\n",
    "\n",
    "    my_string = \"A sentence with a few words\" \n",
    "    my_string[2:5]\n",
    "   "
   ]
  },
  {
   "cell_type": "code",
   "execution_count": null,
   "metadata": {},
   "outputs": [],
   "source": []
  },
  {
   "cell_type": "markdown",
   "metadata": {},
   "source": [
    "There are many other interesting functions for lists. In the Jupyter notebook, you can find these by hitting the <TAB> key on your keyboard after putting a period at the end of the name of a list: \n",
    "    \n",
    "    \n",
    "    my_list.<TAB>\n",
    "    \n",
    "Try these out!"
   ]
  },
  {
   "cell_type": "code",
   "execution_count": null,
   "metadata": {},
   "outputs": [],
   "source": []
  },
  {
   "cell_type": "code",
   "execution_count": null,
   "metadata": {},
   "outputs": [],
   "source": [
    "ll = [\"a\", \"b\", \"c\"]"
   ]
  },
  {
   "cell_type": "markdown",
   "metadata": {},
   "source": [
    "You can get help about a function, by typing the name of the function and then a question mark ('?'): \n",
    "\n",
    "\n",
    "    my_list.sort?\n",
    "    "
   ]
  },
  {
   "cell_type": "code",
   "execution_count": null,
   "metadata": {},
   "outputs": [],
   "source": []
  },
  {
   "cell_type": "markdown",
   "metadata": {},
   "source": [
    "## Loops and flow control\n",
    "\n",
    "Sometimes you want to repeat an action on all elements of a collection of elements (for example, all the elements in a list). For example: \n",
    "\n",
    "\n",
    "    for item in [\"a\", \"b\", \"c\"]:\n",
    "        print(item + \"1\")\n",
    "    \n",
    "    \n",
    "    for name in names: \n",
    "        print(\"hello \" + name)\n",
    "       \n",
    "       "
   ]
  },
  {
   "cell_type": "code",
   "execution_count": null,
   "metadata": {},
   "outputs": [],
   "source": []
  },
  {
   "cell_type": "markdown",
   "metadata": {},
   "source": [
    "A more complicated example: \n",
    "\n",
    "    for name in names: \n",
    "        if name[0] in \"AEIOU\": \n",
    "            print(name + \" starts with a vowel\")\n",
    "        else: \n",
    "            print(name + \" starts with a consonant\")\n"
   ]
  },
  {
   "cell_type": "code",
   "execution_count": null,
   "metadata": {},
   "outputs": [],
   "source": []
  },
  {
   "cell_type": "markdown",
   "metadata": {},
   "source": [
    "## Dictionaries\n",
    "\n",
    "Sometimes you want to link between different elements of your data. One way to do this is to create a look-up table, or a dictionary. Dictionaries connect between one part of the data (called the 'key') and another part of the data (called the 'value'). \n",
    "\n",
    "\n",
    "    my_dict = {\"key1\":150, \"k2\":[1, 2, 3], k3:\"Ariel\"}\n",
    "    "
   ]
  },
  {
   "cell_type": "code",
   "execution_count": null,
   "metadata": {},
   "outputs": [],
   "source": []
  },
  {
   "cell_type": "markdown",
   "metadata": {},
   "source": [
    "To access the values in the dict, we index into it using the key: \n",
    "\n",
    "    val1 = my_dict[\"key1\"]\n",
    "    val2 = my_dict[\"key2\"]\n",
    "    val3 = my_dict[\"key3\"]\n"
   ]
  },
  {
   "cell_type": "code",
   "execution_count": null,
   "metadata": {},
   "outputs": [],
   "source": []
  },
  {
   "cell_type": "markdown",
   "metadata": {},
   "source": [
    "You can also add elements to an existing dictionary using a new key, or change an element using an existing key: \n",
    "\n",
    "    my_dict[\"key4\"] = \"new\"\n",
    "    my_dict[\"key3\"] = \"different\"\n"
   ]
  },
  {
   "cell_type": "code",
   "execution_count": null,
   "metadata": {},
   "outputs": [],
   "source": []
  },
  {
   "cell_type": "markdown",
   "metadata": {},
   "source": [
    "## Importing modules\n",
    "\n",
    "Sometimes you want to add functionality to your programs that doesn't exist in the basic Python language. You can import other functionality from supplemental modules\n",
    "\n",
    "    import random\n",
    "    my_random_number = random.randint(1, 10)\n",
    "    my_random_sample = random.sample([1, 2, 3, 4], 2)\n"
   ]
  },
  {
   "cell_type": "code",
   "execution_count": null,
   "metadata": {},
   "outputs": [],
   "source": []
  },
  {
   "cell_type": "markdown",
   "metadata": {},
   "source": [
    "## Getting inputs from users of your program\n",
    "\n",
    "There are many ways to collect inputs from your user. The simplest way is using the `input` function. This prompts the user of the program to enter a string input: \n",
    "\n",
    "    input()"
   ]
  },
  {
   "cell_type": "markdown",
   "metadata": {},
   "source": [
    "## Defining your own functions\n",
    "\n",
    "If there is some chunk of code that you think that you will use again and again, you might want to write your own function to run it for you. \n",
    "\n",
    "For example\n",
    "\n",
    "    def add_two_numbers(number1, number2):\n",
    "        result = number1 + number2\n",
    "        return result\n",
    "        "
   ]
  },
  {
   "cell_type": "code",
   "execution_count": null,
   "metadata": {},
   "outputs": [],
   "source": []
  },
  {
   "cell_type": "markdown",
   "metadata": {},
   "source": [
    "## Putting it all together\n",
    "\n",
    "The example below puts together all of the ideas that we learned so far. "
   ]
  },
  {
   "cell_type": "code",
   "execution_count": null,
   "metadata": {},
   "outputs": [],
   "source": [
    "capitals_dict = {\n",
    "'Alabama' : 'Montgomery',\n",
    "'Alaska' : 'Juneau',\n",
    "'Arizona' : 'Phoenix',\n",
    "'Arkansas' : 'Little Rock',\n",
    "'California' : 'Sacramento',\n",
    "'Colorado' : 'Denver',\n",
    "'Connecticut' : 'Hartford',\n",
    "'Delaware' : 'Dover',\n",
    "'Florida' : 'Tallahassee',\n",
    "'Georgia' : 'Atlanta',\n",
    "'Hawaii' : 'Honolulu',\n",
    "'Idaho' : 'Boise',\n",
    "'Illinois' : 'Springfield',\n",
    "'Indiana' : 'Indianapolis',\n",
    "'Iowa' : 'Des Moines',\n",
    "'Kansas' : 'Topeka',\n",
    "'Kentucky' : 'Frankfort',\n",
    "'Louisiana' : 'Baton Rouge',\n",
    "'Maine' : 'Augusta',\n",
    "'Maryland' : 'Annapolis',\n",
    "'Massachusetts' : 'Boston',\n",
    "'Michigan' : 'Lansing',\n",
    "'Minnesota' : 'Saint Paul',\n",
    "'Mississippi' : 'Jackson',\n",
    "'Missouri' : 'Jefferson City',\n",
    "'Montana' : 'Helena',\n",
    "'Nebraska' : 'Lincoln',\n",
    "'Nevada' : 'Carson City',\n",
    "'New Hampshire' : 'Concord',\n",
    "'New Jersey' : 'Trenton',\n",
    "'New Mexico' : 'Santa Fe',\n",
    "'New York' : 'Albany',\n",
    "'North Carolina' : 'Raleigh',\n",
    "'North Dakota' : 'Bismarck',\n",
    "'Ohio' : 'Columbus',\n",
    "'Oklahoma' : 'Oklahoma City',\n",
    "'Oregon' : 'Salem',\n",
    "'Pennsylvania' : 'Harrisburg',\n",
    "'Rhode Island' : 'Providence',\n",
    "'South Carolina' : 'Columbia',\n",
    "'South Dakota' : 'Pierre',\n",
    "'Tennessee' : 'Nashville',\n",
    "'Texas' : 'Austin',\n",
    "'Utah' : 'Salt Lake City',\n",
    "'Vermont' : 'Montpelier',\n",
    "'Virginia' : 'Richmond',\n",
    "'Washington' : 'Olympia',\n",
    "'West Virginia' : 'Charleston',\n",
    "'Wisconsin' : 'Madison',\n",
    "'Wyoming' : 'Cheyenne',\n",
    "}\n",
    "\n",
    "import random\n",
    "\n",
    "states = capitals_dict.keys()\n",
    "random_states = random.sample(states, 5)\n",
    "\n",
    "def quiz(s):\n",
    "    capital = capitals_dict[s]\n",
    "    capital_guess = input(\"What is the capital of \" + s + \"? \")\n",
    "\n",
    "    if capital_guess == capital:\n",
    "        print(\"Correct! Nice job.\")\n",
    "    else:\n",
    "        print(\"Incorrect. The capital of \" + s + \" is \" + capital + \".\")\n",
    "\n",
    "\n",
    "for state in random_states:\n",
    "    quiz(state)\n",
    "    \n",
    "print(\"All done\")"
   ]
  },
  {
   "cell_type": "code",
   "execution_count": null,
   "metadata": {},
   "outputs": [],
   "source": []
  }
 ],
 "metadata": {
  "kernelspec": {
   "display_name": "Python 3",
   "language": "python",
   "name": "python3"
  },
  "language_info": {
   "codemirror_mode": {
    "name": "ipython",
    "version": 3
   },
   "file_extension": ".py",
   "mimetype": "text/x-python",
   "name": "python",
   "nbconvert_exporter": "python",
   "pygments_lexer": "ipython3",
   "version": "3.6.4"
  }
 },
 "nbformat": 4,
 "nbformat_minor": 2
}
