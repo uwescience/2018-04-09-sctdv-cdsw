{
 "cells": [
  {
   "cell_type": "markdown",
   "metadata": {},
   "source": [
    "# Introduction to Python"
   ]
  },
  {
   "cell_type": "markdown",
   "metadata": {},
   "source": [
    "## Rules for this tutorial\n",
    "\n",
    "This is an interactive tutorial. Every time you see something like this: \n",
    "\n",
    "    a = \"Hello\"\n",
    "\n",
    "You should type the expression into a Code cell (you can get a new code cell by selecting 'Insert' above and then choosing 'Insert cell below'. \n",
    "\n",
    "No copying and pasting! You'll learn the concepts better if you type them out yourself.\n"
   ]
  },
  {
   "cell_type": "markdown",
   "metadata": {},
   "source": [
    "## Math in Python\n",
    "\n",
    "Math in Python looks a lot like math you type into a calculator. Python  makes a great calculator if you need to crunch some numbers and don't have a good calculator handy.\n",
    "\n",
    "### Addition\n",
    "\n",
    "    2 + 2\n",
    "  \n",
    "    1.5 + 2.25"
   ]
  },
  {
   "cell_type": "code",
   "execution_count": null,
   "metadata": {},
   "outputs": [],
   "source": []
  },
  {
   "cell_type": "markdown",
   "metadata": {},
   "source": [
    "### Subtraction\n",
    "\n",
    "    4 - 2\n",
    "    \n",
    "    100 - .5\n",
    "    \n",
    "    0 - 2"
   ]
  },
  {
   "cell_type": "code",
   "execution_count": null,
   "metadata": {},
   "outputs": [],
   "source": []
  },
  {
   "cell_type": "markdown",
   "metadata": {},
   "source": [
    "### Multiplication\n",
    "\n",
    "     2 * 3"
   ]
  },
  {
   "cell_type": "code",
   "execution_count": null,
   "metadata": {},
   "outputs": [],
   "source": []
  },
  {
   "cell_type": "markdown",
   "metadata": {},
   "source": [
    "### Division\n",
    "   \n",
    "    1 / 2\n",
    "    \n",
    "    4 / 2\n",
    "    "
   ]
  },
  {
   "cell_type": "code",
   "execution_count": null,
   "metadata": {},
   "outputs": [],
   "source": []
  },
  {
   "cell_type": "markdown",
   "metadata": {},
   "source": [
    "When you run these last two you will see that the first one is a fraction (`0.5`), but that even though the second is a whole number (`2.0`), it still gets a decimal point. This is because Python wants to make sure that when you divide two numbers (even whole numbers), you can represent the fractional part of this division. \n",
    "\n",
    "In Python, we call the first kind of number (whole numbers with no decimal point) an `integer` (or `int`) and the second kind (numbers with decimal points, whether they are whole of not) a `float`. "
   ]
  },
  {
   "cell_type": "markdown",
   "metadata": {},
   "source": [
    "## Functions\n",
    "\n",
    "Functions are objects in the Python language that receive an input operate on that input and then return an output. Sort of like a toaster: you put slices of bread into it (inputs), you operate it in a particular way (in Python, that's know as \"calling the function\"), and you get toasted bread (an output). \n",
    "\n",
    "For example, if you'd like to know whether a number is a `float` or an `int`, you can give that to the `type` function, and it will tell you. When you call a function, we say that you \"pass\" it your inputs. That's done by putting them inside parentheses. Try this:\n",
    "\n",
    "    type(1)\n",
    "    type(1.0)\n",
    "\n"
   ]
  },
  {
   "cell_type": "code",
   "execution_count": null,
   "metadata": {},
   "outputs": [],
   "source": []
  },
  {
   "cell_type": "markdown",
   "metadata": {},
   "source": [
    "## Variables\n",
    "\n",
    "Variables allow us to give a name to something in our code. This is done using the equal sign (`=`). For example, if we want to say that the number `4` should be stored in the name `x`, we can run the following\n",
    "\n",
    "    x = 4 \n",
    "    x \n",
    "\n",
    "We call this \"variable assignment\", because we assign a particular value to the name `x`. \n",
    "\n",
    "What do you think would happen if we were to run `type(x)`? And `2 * x`? "
   ]
  },
  {
   "cell_type": "code",
   "execution_count": null,
   "metadata": {},
   "outputs": [],
   "source": []
  },
  {
   "cell_type": "markdown",
   "metadata": {},
   "source": [
    "### Valid variable names\n",
    "\n",
    "Variables can't have spaces or other special characters, and they need to start with a letter. Here are some valid variable names:\n",
    "\n",
    "     magic_number = 1500\n",
    "     amountOfFlour = .75\n",
    "     my_name = \"Jessica\"\n",
    "     \n",
    "What happens if you violate one of these rules?"
   ]
  },
  {
   "cell_type": "code",
   "execution_count": null,
   "metadata": {},
   "outputs": [],
   "source": []
  },
  {
   "cell_type": "markdown",
   "metadata": {},
   "source": [
    "## Output\n",
    "\n",
    "Notice how if you type a 4 and hit enter, the Python interpreter spits a 4\n",
    "back out:\n",
    "    \n",
    "    4\n",
    "\n"
   ]
  },
  {
   "cell_type": "code",
   "execution_count": null,
   "metadata": {},
   "outputs": [],
   "source": []
  },
  {
   "cell_type": "markdown",
   "metadata": {},
   "source": [
    "But if you assign 4 to a variable, nothing is printed: \n",
    "\n",
    "    x = 4"
   ]
  },
  {
   "cell_type": "code",
   "execution_count": null,
   "metadata": {},
   "outputs": [],
   "source": []
  },
  {
   "cell_type": "markdown",
   "metadata": {},
   "source": [
    "You can think of it as though something needs to get the output. Without an assignment, the winner is the screen. With assignment, the output goes to the variable."
   ]
  },
  {
   "cell_type": "markdown",
   "metadata": {},
   "source": [
    "You can reassign variables if you want:\n",
    "\n",
    "    x = 4\n",
    "    print(x)\n",
    "    x = 5\n",
    "    print(x)\n",
    "    \n",
    "Notice that I am using another function here. This function (`print`) displays to the screen whatever is given to it as input. "
   ]
  },
  {
   "cell_type": "code",
   "execution_count": null,
   "metadata": {},
   "outputs": [],
   "source": []
  },
  {
   "cell_type": "markdown",
   "metadata": {},
   "source": [
    "Order of operations between math operations works pretty much like how you learned in school. If you're unsure of an ordering, you can add parentheses like on a calculator:\n",
    "\n",
    "    x = 3\n",
    "    y = 4\n",
    "    print(x * y)\n",
    "    print(x * x)\n",
    "    print(2 * x - 1 * y)\n",
    "    print((2 * x) - (1 * y))\n"
   ]
  },
  {
   "cell_type": "code",
   "execution_count": null,
   "metadata": {},
   "outputs": [],
   "source": []
  },
  {
   "cell_type": "markdown",
   "metadata": {},
   "source": [
    "The spacing doesn't matter, so this: \n",
    "\n",
    "    x = 4 \n",
    "    \n",
    "does exactly the same as this:\n",
    "    \n",
    "    x=4\n",
    "    \n",
    "and this: \n",
    "   \n",
    "    (2 * x) - (1 * y)\n",
    "    \n",
    "does exactly the same as this: \n",
    "\n",
    "    (2*x)-(1*y)\n",
    "\n",
    "You aren't cheating and skipping typing these exercises out, are you? Good! :)"
   ]
  },
  {
   "cell_type": "code",
   "execution_count": null,
   "metadata": {},
   "outputs": [],
   "source": []
  },
  {
   "cell_type": "markdown",
   "metadata": {},
   "source": [
    "## Strings\n",
    "\n",
    "So far we've seen two data types: `int`s and `float`s. Another useful data type is a `string`, which is just what Python calls a bunch of characters (like numbers, letters, whitespace, and punctuation) put together. Strings are indicated by being surrounded by quotes:\n",
    "\n",
    "     \"Hello\"\n",
    "     \"Python, I'm your #1 fan!\""
   ]
  },
  {
   "cell_type": "code",
   "execution_count": null,
   "metadata": {},
   "outputs": [],
   "source": []
  },
  {
   "cell_type": "markdown",
   "metadata": {},
   "source": [
    "Like with the math data types above, we can use the type function to check the type of strings:\n",
    "\n",
    "    type(\"Hello\")\n",
    "    type(1)\n",
    "    type(\"1\")"
   ]
  },
  {
   "cell_type": "markdown",
   "metadata": {},
   "source": [
    "### String concatenation\n",
    "\n",
    "You can combine together strings using the `+` sign (we call that \"concatenating\"): \n",
    "\n",
    "    \"Hello\" + \"world\"\n",
    "    name = \"Jessica\" \n",
    "    \"Hello\" + name\n",
    "    \n"
   ]
  },
  {
   "cell_type": "code",
   "execution_count": null,
   "metadata": {},
   "outputs": [],
   "source": []
  },
  {
   "cell_type": "markdown",
   "metadata": {},
   "source": [
    "What happens when you try concatenating different data types?\n",
    "\n",
    "For example, try running: \n",
    "    \n",
    "    \"Hello\" + 1"
   ]
  },
  {
   "cell_type": "code",
   "execution_count": null,
   "metadata": {},
   "outputs": [],
   "source": []
  },
  {
   "cell_type": "markdown",
   "metadata": {},
   "source": [
    "This should result in something that looks like:\n",
    "\n",
    "    Traceback (most recent call last):\n",
    "      File \"<stdin>\", line 1, in <module>\n",
    "    TypeError: cannot concatenate 'str' and 'int' objects"
   ]
  },
  {
   "cell_type": "markdown",
   "metadata": {},
   "source": [
    "Python is giving us a **traceback**. A traceback is details on what was happening when Python encountered an Exception or Error -- something it doesn't know how to handle.\n",
    "\n",
    "There are many kinds of Python errors, with descriptive names to help us humans understand what went wrong. In this case we are getting a TypeError: we tried to do some operation on a data type that isn't supported for that data type.\n",
    "\n",
    "Python gives us a helpful error message as part of the TypeError:\n",
    "\n",
    "    \"cannot concatenate 'str' and 'int' objects\"\n",
    "\n",
    "This is because though we can concatenate strings (For example `\"Hello\" + \"World\"`), when we "
   ]
  },
  {
   "cell_type": "code",
   "execution_count": null,
   "metadata": {},
   "outputs": [],
   "source": []
  }
 ],
 "metadata": {
  "kernelspec": {
   "display_name": "Python 3",
   "language": "python",
   "name": "python3"
  },
  "language_info": {
   "codemirror_mode": {
    "name": "ipython",
    "version": 3
   },
   "file_extension": ".py",
   "mimetype": "text/x-python",
   "name": "python",
   "nbconvert_exporter": "python",
   "pygments_lexer": "ipython3",
   "version": "3.6.4"
  }
 },
 "nbformat": 4,
 "nbformat_minor": 2
}
